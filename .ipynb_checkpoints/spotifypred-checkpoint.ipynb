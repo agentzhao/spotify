{
 "cells": [
  {
   "cell_type": "code",
   "execution_count": 1,
   "metadata": {},
   "outputs": [],
   "source": [
    "#refs\n",
    "#https://www.kaggle.com/code/anatpeled/spotify-popularity-prediction"
   ]
  },
  {
   "cell_type": "code",
   "execution_count": null,
   "metadata": {},
   "outputs": [],
   "source": [
    "import os\n",
    "import glob\n",
    "import pandas as pd\n",
    "import numpy as np\n",
    "import datetime\n",
    "import matplotlib.pyplot as plt\n",
    "import seaborn as sb\n",
    "sb.set() # set the default Seaborn style for graphics"
   ]
  },
  {
   "cell_type": "markdown",
   "metadata": {},
   "source": [
    "## Data Prep and Cleaning"
   ]
  },
  {
   "cell_type": "code",
   "execution_count": null,
   "metadata": {},
   "outputs": [],
   "source": [
    "allsongs = pd.read_csv('datasets/spotify_dataset.csv', dtype={'song_name': str})\n",
    "\n",
    "# Cleaning dataset\n",
    "allsongs = allsongs.drop(columns = ['artist', 'uri'])\n",
    "\n",
    "# drop rows without track name\n",
    "allsongs = allsongs.dropna(subset=['track'])\n",
    "allsongs = allsongs.reset_index(drop=True)\n",
    "\n",
    "allsongs.describe()"
   ]
  },
  {
   "cell_type": "markdown",
   "metadata": {},
   "source": [
    "## Exploratory Data Analysis/Visualisation"
   ]
  },
  {
   "cell_type": "code",
   "execution_count": null,
   "metadata": {},
   "outputs": [],
   "source": [
    "songtraits = [\"danceability\", \"energy\", \"key\", \"loudness\", \"mode\", \"speechiness\", \"acousticness\", \"instrumentalness\", \"liveness\", \"valence\", \"tempo\", \"duration_ms\", \"time_signature\", \"chorus_hit\", \"sections\", \"decade\"]"
   ]
  },
  {
   "cell_type": "code",
   "execution_count": null,
   "metadata": {},
   "outputs": [],
   "source": [
    "# Splitting dataset into popular and non-popular songs\n",
    "popular = allsongs[allsongs['popularity'] == 1]\n",
    "notpopular = allsongs[allsongs['popularity'] == 0]"
   ]
  },
  {
   "cell_type": "code",
   "execution_count": null,
   "metadata": {},
   "outputs": [],
   "source": [
    "# Numeric Heatmap\n",
    "\n",
    "\n",
    "numeric_columns = allsongs.columns[allsongs.dtypes != 'object']\n",
    "numeric_df = pd.DataFrame(data=allsongs, columns=numeric_columns, index=allsongs.index)\n",
    "corr = np.abs(numeric_df.corr())\n",
    "fig, ax = plt.subplots(figsize=(8, 8))\n",
    "cmap = sb.color_palette(\"magma\")\n",
    "sb.heatmap(corr, cmap=cmap, square=True)\n",
    "plt.title('Correlation between numerical features: abs values')\n",
    "plt.show()"
   ]
  },
  {
   "cell_type": "code",
   "execution_count": null,
   "metadata": {},
   "outputs": [],
   "source": [
    "# allsongs['duration_ms'].corr(allsongs['popularity'])\n",
    "series = np.abs(corr['popularity']).sort_values(ascending=False)\n",
    "\n",
    "print('The most linearly correlated features to POPULARITY are:')\n",
    "for i, row in enumerate(series):\n",
    "    if 0.11 <= row < 1:\n",
    "      print(f'{series.index[i]:18} -> {row: .3f} (abs)')"
   ]
  },
  {
   "cell_type": "code",
   "execution_count": null,
   "metadata": {},
   "outputs": [],
   "source": [
    "# Danceability\n",
    "\n",
    "sb.displot(allsongs['danceability'], kde=False, bins=30)\n",
    "plt.show()"
   ]
  },
  {
   "cell_type": "code",
   "execution_count": null,
   "metadata": {},
   "outputs": [],
   "source": [
    "fig, ax = plt.subplots(1, figsize=(15, 6), sharey=True, sharex = True)\n",
    "ax_data =  allsongs.groupby('danceability')['popularity'].mean().to_frame().reset_index()\n",
    "ax = sb.scatterplot(x='danceability', y='popularity', data=ax_data, color='blue', ax=ax)\n",
    "ax.set_title('danceability')\n",
    "ax.set_ylabel('Mean Popularity', fontsize=12)\n",
    "plt.tight_layout()\n",
    "plt.show()"
   ]
  },
  {
   "cell_type": "code",
   "execution_count": null,
   "metadata": {},
   "outputs": [],
   "source": []
  },
  {
   "cell_type": "markdown",
   "metadata": {},
   "source": [
    "## Machine learning techniques to solve specific problem\n",
    "### Problem:"
   ]
  },
  {
   "cell_type": "code",
   "execution_count": null,
   "metadata": {},
   "outputs": [],
   "source": []
  }
 ],
 "metadata": {
  "kernelspec": {
   "display_name": "Python 3",
   "language": "python",
   "name": "python3"
  },
  "language_info": {
   "codemirror_mode": {
    "name": "ipython",
    "version": 3
   },
   "file_extension": ".py",
   "mimetype": "text/x-python",
   "name": "python",
   "nbconvert_exporter": "python",
   "pygments_lexer": "ipython3",
   "version": "3.8.10"
  }
 },
 "nbformat": 4,
 "nbformat_minor": 4
}
