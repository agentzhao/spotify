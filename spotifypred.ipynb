{
 "cells": [
  {
   "cell_type": "markdown",
   "metadata": {},
   "source": [
    "## todo\n",
    "Write down analysis/insights for each song trait, relationship with popularity\n",
    "\n",
    "https://www.kaggle.com/code/anatpeled/spotify-popularity-prediction"
   ]
  },
  {
   "cell_type": "code",
   "execution_count": 1,
   "metadata": {},
   "outputs": [
    {
     "name": "stdout",
     "output_type": "stream",
     "text": [
      "Requirement already satisfied: yellowbrick in /Users/hsiehbohyang/opt/anaconda3/lib/python3.9/site-packages (1.4)\n",
      "Requirement already satisfied: matplotlib!=3.0.0,>=2.0.2 in /Users/hsiehbohyang/opt/anaconda3/lib/python3.9/site-packages (from yellowbrick) (3.4.3)\n",
      "Requirement already satisfied: scikit-learn>=1.0.0 in /Users/hsiehbohyang/opt/anaconda3/lib/python3.9/site-packages (from yellowbrick) (1.0.2)\n",
      "Requirement already satisfied: cycler>=0.10.0 in /Users/hsiehbohyang/opt/anaconda3/lib/python3.9/site-packages (from yellowbrick) (0.10.0)\n",
      "Requirement already satisfied: numpy>=1.16.0 in /Users/hsiehbohyang/opt/anaconda3/lib/python3.9/site-packages (from yellowbrick) (1.20.3)\n",
      "Requirement already satisfied: scipy>=1.0.0 in /Users/hsiehbohyang/opt/anaconda3/lib/python3.9/site-packages (from yellowbrick) (1.7.1)\n",
      "Requirement already satisfied: six in /Users/hsiehbohyang/opt/anaconda3/lib/python3.9/site-packages (from cycler>=0.10.0->yellowbrick) (1.16.0)\n",
      "Requirement already satisfied: python-dateutil>=2.7 in /Users/hsiehbohyang/opt/anaconda3/lib/python3.9/site-packages (from matplotlib!=3.0.0,>=2.0.2->yellowbrick) (2.8.2)\n",
      "Requirement already satisfied: pillow>=6.2.0 in /Users/hsiehbohyang/opt/anaconda3/lib/python3.9/site-packages (from matplotlib!=3.0.0,>=2.0.2->yellowbrick) (8.4.0)\n",
      "Requirement already satisfied: pyparsing>=2.2.1 in /Users/hsiehbohyang/opt/anaconda3/lib/python3.9/site-packages (from matplotlib!=3.0.0,>=2.0.2->yellowbrick) (3.0.4)\n",
      "Requirement already satisfied: kiwisolver>=1.0.1 in /Users/hsiehbohyang/opt/anaconda3/lib/python3.9/site-packages (from matplotlib!=3.0.0,>=2.0.2->yellowbrick) (1.3.1)\n",
      "Requirement already satisfied: joblib>=0.11 in /Users/hsiehbohyang/opt/anaconda3/lib/python3.9/site-packages (from scikit-learn>=1.0.0->yellowbrick) (1.1.0)\n",
      "Requirement already satisfied: threadpoolctl>=2.0.0 in /Users/hsiehbohyang/opt/anaconda3/lib/python3.9/site-packages (from scikit-learn>=1.0.0->yellowbrick) (2.2.0)\n",
      "Requirement already satisfied: wordcloud in /Users/hsiehbohyang/opt/anaconda3/lib/python3.9/site-packages (1.8.1)\n",
      "Requirement already satisfied: numpy>=1.6.1 in /Users/hsiehbohyang/opt/anaconda3/lib/python3.9/site-packages (from wordcloud) (1.20.3)\n",
      "Requirement already satisfied: pillow in /Users/hsiehbohyang/opt/anaconda3/lib/python3.9/site-packages (from wordcloud) (8.4.0)\n",
      "Requirement already satisfied: matplotlib in /Users/hsiehbohyang/opt/anaconda3/lib/python3.9/site-packages (from wordcloud) (3.4.3)\n",
      "Requirement already satisfied: python-dateutil>=2.7 in /Users/hsiehbohyang/opt/anaconda3/lib/python3.9/site-packages (from matplotlib->wordcloud) (2.8.2)\n",
      "Requirement already satisfied: cycler>=0.10 in /Users/hsiehbohyang/opt/anaconda3/lib/python3.9/site-packages (from matplotlib->wordcloud) (0.10.0)\n",
      "Requirement already satisfied: pyparsing>=2.2.1 in /Users/hsiehbohyang/opt/anaconda3/lib/python3.9/site-packages (from matplotlib->wordcloud) (3.0.4)\n",
      "Requirement already satisfied: kiwisolver>=1.0.1 in /Users/hsiehbohyang/opt/anaconda3/lib/python3.9/site-packages (from matplotlib->wordcloud) (1.3.1)\n",
      "Requirement already satisfied: six in /Users/hsiehbohyang/opt/anaconda3/lib/python3.9/site-packages (from cycler>=0.10->matplotlib->wordcloud) (1.16.0)\n"
     ]
    }
   ],
   "source": [
    "!pip install yellowbrick\n",
    "!pip install wordcloud"
   ]
  },
  {
   "cell_type": "code",
   "execution_count": 2,
   "metadata": {},
   "outputs": [],
   "source": [
    "import os\n",
    "import glob\n",
    "import pandas as pd\n",
    "import numpy as np\n",
    "import datetime\n",
    "import matplotlib.pyplot as plt\n",
    "import seaborn as sb\n",
    "sb.set() # set the default Seaborn style for graphics\n",
    "\n",
    "# Import essential models and functions for linear regression from sklearn\n",
    "from sklearn.linear_model import LinearRegression\n",
    "from sklearn.model_selection import train_test_split\n",
    "from sklearn.metrics import mean_squared_error\n"
   ]
  },
  {
   "cell_type": "markdown",
   "metadata": {},
   "source": [
    "## Data Prep and Cleaning"
   ]
  },
  {
   "cell_type": "code",
   "execution_count": 3,
   "metadata": {},
   "outputs": [
    {
     "name": "stdout",
     "output_type": "stream",
     "text": [
      "<class 'pandas.core.frame.DataFrame'>\n",
      "RangeIndex: 41099 entries, 0 to 41098\n",
      "Data columns (total 20 columns):\n",
      " #   Column            Non-Null Count  Dtype  \n",
      "---  ------            --------------  -----  \n",
      " 0   track             41099 non-null  object \n",
      " 1   artist            41099 non-null  object \n",
      " 2   uri               41099 non-null  object \n",
      " 3   danceability      41099 non-null  float64\n",
      " 4   energy            41099 non-null  float64\n",
      " 5   key               41099 non-null  int64  \n",
      " 6   loudness          41099 non-null  float64\n",
      " 7   mode              41099 non-null  int64  \n",
      " 8   speechiness       41099 non-null  float64\n",
      " 9   acousticness      41099 non-null  float64\n",
      " 10  instrumentalness  41099 non-null  float64\n",
      " 11  liveness          41099 non-null  float64\n",
      " 12  valence           41099 non-null  float64\n",
      " 13  tempo             41099 non-null  float64\n",
      " 14  duration_ms       41099 non-null  int64  \n",
      " 15  time_signature    41099 non-null  int64  \n",
      " 16  chorus_hit        41099 non-null  float64\n",
      " 17  sections          41099 non-null  int64  \n",
      " 18  popularity        41099 non-null  int64  \n",
      " 19  decade            41099 non-null  object \n",
      "dtypes: float64(10), int64(6), object(4)\n",
      "memory usage: 6.3+ MB\n"
     ]
    }
   ],
   "source": [
    "allsongs = pd.read_csv('datasets/spotify_dataset.csv', dtype={'song_name': str})\n",
    "\n",
    "# Information about the Variables\n",
    "# check for any NULL values\n",
    "allsongs.info()"
   ]
  },
  {
   "cell_type": "code",
   "execution_count": 4,
   "metadata": {},
   "outputs": [
    {
     "name": "stderr",
     "output_type": "stream",
     "text": [
      "/var/folders/8p/z6jpfmkx121g6l5kqwrv7cc80000gn/T/ipykernel_39140/737296203.py:15: SettingWithCopyWarning: \n",
      "A value is trying to be set on a copy of a slice from a DataFrame\n",
      "\n",
      "See the caveats in the documentation: https://pandas.pydata.org/pandas-docs/stable/user_guide/indexing.html#returning-a-view-versus-a-copy\n",
      "  allsongs['decade'][i] += 1900\n",
      "/var/folders/8p/z6jpfmkx121g6l5kqwrv7cc80000gn/T/ipykernel_39140/737296203.py:17: SettingWithCopyWarning: \n",
      "A value is trying to be set on a copy of a slice from a DataFrame\n",
      "\n",
      "See the caveats in the documentation: https://pandas.pydata.org/pandas-docs/stable/user_guide/indexing.html#returning-a-view-versus-a-copy\n",
      "  allsongs['decade'][i] += 2000\n"
     ]
    },
    {
     "data": {
      "text/html": [
       "<div>\n",
       "<style scoped>\n",
       "    .dataframe tbody tr th:only-of-type {\n",
       "        vertical-align: middle;\n",
       "    }\n",
       "\n",
       "    .dataframe tbody tr th {\n",
       "        vertical-align: top;\n",
       "    }\n",
       "\n",
       "    .dataframe thead th {\n",
       "        text-align: right;\n",
       "    }\n",
       "</style>\n",
       "<table border=\"1\" class=\"dataframe\">\n",
       "  <thead>\n",
       "    <tr style=\"text-align: right;\">\n",
       "      <th></th>\n",
       "      <th>track</th>\n",
       "      <th>artist</th>\n",
       "      <th>danceability</th>\n",
       "      <th>energy</th>\n",
       "      <th>key</th>\n",
       "      <th>loudness</th>\n",
       "      <th>mode</th>\n",
       "      <th>speechiness</th>\n",
       "      <th>acousticness</th>\n",
       "      <th>instrumentalness</th>\n",
       "      <th>liveness</th>\n",
       "      <th>valence</th>\n",
       "      <th>tempo</th>\n",
       "      <th>duration_ms</th>\n",
       "      <th>time_signature</th>\n",
       "      <th>chorus_hit</th>\n",
       "      <th>sections</th>\n",
       "      <th>popularity</th>\n",
       "      <th>decade</th>\n",
       "    </tr>\n",
       "  </thead>\n",
       "  <tbody>\n",
       "    <tr>\n",
       "      <th>0</th>\n",
       "      <td>Jealous Kind Of Fella</td>\n",
       "      <td>Garland Green</td>\n",
       "      <td>0.417</td>\n",
       "      <td>0.620</td>\n",
       "      <td>3</td>\n",
       "      <td>-7.727</td>\n",
       "      <td>1</td>\n",
       "      <td>0.0403</td>\n",
       "      <td>0.490</td>\n",
       "      <td>0.000000</td>\n",
       "      <td>0.0779</td>\n",
       "      <td>0.845</td>\n",
       "      <td>185.655</td>\n",
       "      <td>173533</td>\n",
       "      <td>3</td>\n",
       "      <td>32.94975</td>\n",
       "      <td>9</td>\n",
       "      <td>1</td>\n",
       "      <td>1960</td>\n",
       "    </tr>\n",
       "    <tr>\n",
       "      <th>1</th>\n",
       "      <td>Initials B.B.</td>\n",
       "      <td>Serge Gainsbourg</td>\n",
       "      <td>0.498</td>\n",
       "      <td>0.505</td>\n",
       "      <td>3</td>\n",
       "      <td>-12.475</td>\n",
       "      <td>1</td>\n",
       "      <td>0.0337</td>\n",
       "      <td>0.018</td>\n",
       "      <td>0.107000</td>\n",
       "      <td>0.1760</td>\n",
       "      <td>0.797</td>\n",
       "      <td>101.801</td>\n",
       "      <td>213613</td>\n",
       "      <td>4</td>\n",
       "      <td>48.82510</td>\n",
       "      <td>10</td>\n",
       "      <td>0</td>\n",
       "      <td>1960</td>\n",
       "    </tr>\n",
       "    <tr>\n",
       "      <th>2</th>\n",
       "      <td>Melody Twist</td>\n",
       "      <td>Lord Melody</td>\n",
       "      <td>0.657</td>\n",
       "      <td>0.649</td>\n",
       "      <td>5</td>\n",
       "      <td>-13.392</td>\n",
       "      <td>1</td>\n",
       "      <td>0.0380</td>\n",
       "      <td>0.846</td>\n",
       "      <td>0.000004</td>\n",
       "      <td>0.1190</td>\n",
       "      <td>0.908</td>\n",
       "      <td>115.940</td>\n",
       "      <td>223960</td>\n",
       "      <td>4</td>\n",
       "      <td>37.22663</td>\n",
       "      <td>12</td>\n",
       "      <td>0</td>\n",
       "      <td>1960</td>\n",
       "    </tr>\n",
       "    <tr>\n",
       "      <th>3</th>\n",
       "      <td>Mi Bomba Sonó</td>\n",
       "      <td>Celia Cruz</td>\n",
       "      <td>0.590</td>\n",
       "      <td>0.545</td>\n",
       "      <td>7</td>\n",
       "      <td>-12.058</td>\n",
       "      <td>0</td>\n",
       "      <td>0.1040</td>\n",
       "      <td>0.706</td>\n",
       "      <td>0.024600</td>\n",
       "      <td>0.0610</td>\n",
       "      <td>0.967</td>\n",
       "      <td>105.592</td>\n",
       "      <td>157907</td>\n",
       "      <td>4</td>\n",
       "      <td>24.75484</td>\n",
       "      <td>8</td>\n",
       "      <td>0</td>\n",
       "      <td>1960</td>\n",
       "    </tr>\n",
       "    <tr>\n",
       "      <th>4</th>\n",
       "      <td>Uravu Solla</td>\n",
       "      <td>P. Susheela</td>\n",
       "      <td>0.515</td>\n",
       "      <td>0.765</td>\n",
       "      <td>11</td>\n",
       "      <td>-3.515</td>\n",
       "      <td>0</td>\n",
       "      <td>0.1240</td>\n",
       "      <td>0.857</td>\n",
       "      <td>0.000872</td>\n",
       "      <td>0.2130</td>\n",
       "      <td>0.906</td>\n",
       "      <td>114.617</td>\n",
       "      <td>245600</td>\n",
       "      <td>4</td>\n",
       "      <td>21.79874</td>\n",
       "      <td>14</td>\n",
       "      <td>0</td>\n",
       "      <td>1960</td>\n",
       "    </tr>\n",
       "  </tbody>\n",
       "</table>\n",
       "</div>"
      ],
      "text/plain": [
       "                   track            artist  danceability  energy  key  \\\n",
       "0  Jealous Kind Of Fella     Garland Green         0.417   0.620    3   \n",
       "1          Initials B.B.  Serge Gainsbourg         0.498   0.505    3   \n",
       "2           Melody Twist       Lord Melody         0.657   0.649    5   \n",
       "3          Mi Bomba Sonó        Celia Cruz         0.590   0.545    7   \n",
       "4            Uravu Solla       P. Susheela         0.515   0.765   11   \n",
       "\n",
       "   loudness  mode  speechiness  acousticness  instrumentalness  liveness  \\\n",
       "0    -7.727     1       0.0403         0.490          0.000000    0.0779   \n",
       "1   -12.475     1       0.0337         0.018          0.107000    0.1760   \n",
       "2   -13.392     1       0.0380         0.846          0.000004    0.1190   \n",
       "3   -12.058     0       0.1040         0.706          0.024600    0.0610   \n",
       "4    -3.515     0       0.1240         0.857          0.000872    0.2130   \n",
       "\n",
       "   valence    tempo  duration_ms  time_signature  chorus_hit  sections  \\\n",
       "0    0.845  185.655       173533               3    32.94975         9   \n",
       "1    0.797  101.801       213613               4    48.82510        10   \n",
       "2    0.908  115.940       223960               4    37.22663        12   \n",
       "3    0.967  105.592       157907               4    24.75484         8   \n",
       "4    0.906  114.617       245600               4    21.79874        14   \n",
       "\n",
       "   popularity  decade  \n",
       "0           1    1960  \n",
       "1           0    1960  \n",
       "2           0    1960  \n",
       "3           0    1960  \n",
       "4           0    1960  "
      ]
     },
     "execution_count": 4,
     "metadata": {},
     "output_type": "execute_result"
    }
   ],
   "source": [
    "# Cleaning dataset\n",
    "allsongs = allsongs.drop(columns = ['uri'])\n",
    "\n",
    "# drop rows without track name\n",
    "allsongs = allsongs.dropna(subset=['track'])\n",
    "allsongs = allsongs.reset_index(drop=True)\n",
    "\n",
    "# Change decade column to int\n",
    "allsongs['decade'] = allsongs.decade.str.replace('s' , '')\n",
    "allsongs['decade'] = pd.to_numeric(allsongs['decade'])\n",
    "\n",
    "decades = allsongs['decade']\n",
    "for i, x in enumerate(decades):\n",
    "    if x >= 60:\n",
    "        allsongs['decade'][i] += 1900\n",
    "    if x <= 20:\n",
    "        allsongs['decade'][i] += 2000\n",
    "\n",
    "allsongs.head()"
   ]
  },
  {
   "cell_type": "markdown",
   "metadata": {},
   "source": [
    "## Exploratory Data Analysis/Visualisation"
   ]
  },
  {
   "cell_type": "code",
   "execution_count": 5,
   "metadata": {},
   "outputs": [
    {
     "data": {
      "image/png": "[encoded data removed]",
      "text/plain": [
       "<Figure size 864x720 with 1 Axes>"
      ]
     },
     "metadata": {},
     "output_type": "display_data"
    }
   ],
   "source": [
    "fig, ax = plt.subplots(figsize = (12, 10))\n",
    "lead_artists = allsongs.groupby('artist')['popularity'].sum().sort_values(ascending=False).head(20)\n",
    "ax = sb.barplot(x=lead_artists.values, y=lead_artists.index, palette=\"Blues\", orient=\"h\", edgecolor='black', ax=ax)\n",
    "ax.set_xlabel('Sum of Popularity', c='r', fontsize=12)\n",
    "ax.set_ylabel('Artist', c='r', fontsize=12)\n",
    "ax.set_title('20 Most Popular Artists in Dataset', c='r', fontsize=14, weight = 'bold')\n",
    "plt.show()"
   ]
  },
  {
   "cell_type": "code",
   "execution_count": 6,
   "metadata": {},
   "outputs": [
    {
     "data": {
      "image/png": "[encoded data removed]",
      "text/plain": [
       "<Figure size 1080x360 with 1 Axes>"
      ]
     },
     "metadata": {},
     "output_type": "display_data"
    }
   ],
   "source": [
    "# Distribution of key\n",
    "fig, ax = plt.subplots(figsize = (15, 5))\n",
    "key_data = allsongs['key'].value_counts(normalize=True, sort=True, ascending=True)*100\n",
    "y_ticks = allsongs['key'].value_counts().index\n",
    "ax = sb.barplot(x = key_data.values, y= y_ticks, data = key_data, orient='h', palette='Spectral')\n",
    "ax.set_xlabel('% of records', fontsize=12, weight='bold')\n",
    "ax.set_ylabel('Key', fontsize=12, weight='bold')\n",
    "ax.set_xlim(0.0,15.0, 0)\n",
    "ax.set_xticks(ticks=range(0,16,1))\n",
    "ax.set_yticklabels(labels=y_ticks, fontsize=12) #\n",
    "\n",
    "rects = ax.patches\n",
    "\n",
    "# For each bar: Place a label\n",
    "for rect in rects:\n",
    "    # Get X and Y placement of label from rect.\n",
    "    x_value = rect.get_width() #f'{rect.get_width():.2f}'\n",
    "    y_value = rect.get_y() + rect.get_height() / 2\n",
    "    # Number of points between bar and label. Change to your liking.\n",
    "    space = 5\n",
    "    # Vertical alignment for positive values\n",
    "    ha = 'left'\n",
    "\n",
    "    # Use X value as label and format number with one decimal place\n",
    "    label = f'{x_value:.1f}'\n",
    "\n",
    "    # Create annotation\n",
    "    plt.annotate(\n",
    "        label,                      # Use `label` as label\n",
    "        (x_value, y_value),         # Place label at end of the bar\n",
    "        xytext=(space, 0),          # Horizontally shift label by `space`\n",
    "        textcoords=\"offset points\", # Interpret `xytext` as offset in points\n",
    "        va='center',                # Vertically center label\n",
    "        ha=ha)                      # Horizontally align label differently for\n",
    "                                    # positive and negative values.\n",
    "\n",
    "plt.suptitle('Distribution of Key (%)', fontsize=14, c='r')\n",
    "plt.show()"
   ]
  },
  {
   "cell_type": "code",
   "execution_count": 7,
   "metadata": {},
   "outputs": [
    {
     "data": {
      "image/png": "[encoded data removed]",
      "text/plain": [
       "<Figure size 1080x360 with 1 Axes>"
      ]
     },
     "metadata": {},
     "output_type": "display_data"
    }
   ],
   "source": [
    "exp_data = sb.catplot(data=allsongs, kind=\"bar\",\n",
    "                        x=\"key\", y=\"popularity\",\n",
    "                        palette='pastel',\n",
    "                        ci = 'sd',\n",
    "                        height=5, aspect = 3)\n",
    "exp_data.fig.suptitle('Popularity by Key Category', y=1.05, c='r', weight='bold')\n",
    "exp_data.set_axis_labels(\"key\", \"Popularity\")\n",
    "plt.show()"
   ]
  },
  {
   "cell_type": "markdown",
   "metadata": {},
   "source": [
    "## Song Traits\n",
    "\n",
    "key — The estimated overall key of the track. Integers map to pitches using standard Pitch Class notation. Ex: 0 = C, 1 = C♯/D♭, 2 = D, and so on. If no key was detected, the value is -1.\n",
    "\n",
    "Mode — Mode indicates the modality (major or minor) of a track, the type of scale from which its melodic content is derived. Major is represented by 1 and minor is 0.\n",
    "\n",
    "Acoustiness — A confidence measure from 0.0 to 1.0 of whether the track is acoustic. 1.0 represents high confidence the track is acoustic.\n",
    "\n",
    "Danceability — Danceability describes how suitable a track is for dancing based on a combination of musical elements including tempo, rhythm stability, beat strength, and overall regularity. A value of 0.0 is least danceable and 1.0 is the most danceable.\n",
    "\n",
    "Energy — Energy is a measure from 0.0 to 1.0 and represents a perceptual measure of intensity and activity. Typically, energetic tracks feel fast, loud, and noisy.\n",
    "\n",
    "Instrumentalness — Predicts whether a track contains no vocals. The closer the instrumentalness value is to 1.0, the greater likelihood the track contains no vocal content.\n",
    "\n",
    "Loudness — The overall loudness of a track in decibels (dB). Values typical range between -60 and 0 dB.\n",
    "\n",
    "Valence — A measure from 0.0 to 1.0 describing the musical positiveness conveyed by a track. Tracks with high valence sound more positive.\n",
    "\n",
    "Tempo — The overall estimated tempo of a track in beats per minute (BPM).\n",
    "\n",
    "Popularity — The popularity of the track. The value will be between 0 and 100, with 100 being the most popular.\n"
   ]
  },
  {
   "cell_type": "code",
   "execution_count": 8,
   "metadata": {},
   "outputs": [],
   "source": [
    "songtraits = [\"danceability\", \"energy\", \"key\", \"loudness\", \"mode\", \"speechiness\", \"acousticness\", \"instrumentalness\", \"liveness\", \"valence\", \"tempo\", \"duration_ms\", \"time_signature\", \"chorus_hit\", \"sections\", \"decade\"]"
   ]
  },
  {
   "cell_type": "code",
   "execution_count": 9,
   "metadata": {},
   "outputs": [
    {
     "ename": "NameError",
     "evalue": "name 'corr' is not defined",
     "output_type": "error",
     "traceback": [
      "\u001b[0;31m---------------------------------------------------------------------------\u001b[0m",
      "\u001b[0;31mNameError\u001b[0m                                 Traceback (most recent call last)",
      "\u001b[0;32m/var/folders/8p/z6jpfmkx121g6l5kqwrv7cc80000gn/T/ipykernel_39140/2738641605.py\u001b[0m in \u001b[0;36m<module>\u001b[0;34m\u001b[0m\n\u001b[1;32m      1\u001b[0m \u001b[0;31m# allsongs['duration_ms'].corr(allsongs['popularity'])\u001b[0m\u001b[0;34m\u001b[0m\u001b[0;34m\u001b[0m\u001b[0m\n\u001b[0;32m----> 2\u001b[0;31m \u001b[0mseries\u001b[0m \u001b[0;34m=\u001b[0m \u001b[0mnp\u001b[0m\u001b[0;34m.\u001b[0m\u001b[0mabs\u001b[0m\u001b[0;34m(\u001b[0m\u001b[0mcorr\u001b[0m\u001b[0;34m[\u001b[0m\u001b[0;34m'popularity'\u001b[0m\u001b[0;34m]\u001b[0m\u001b[0;34m)\u001b[0m\u001b[0;34m.\u001b[0m\u001b[0msort_values\u001b[0m\u001b[0;34m(\u001b[0m\u001b[0mascending\u001b[0m\u001b[0;34m=\u001b[0m\u001b[0;32mFalse\u001b[0m\u001b[0;34m)\u001b[0m\u001b[0;34m\u001b[0m\u001b[0;34m\u001b[0m\u001b[0m\n\u001b[0m\u001b[1;32m      3\u001b[0m \u001b[0;34m\u001b[0m\u001b[0m\n\u001b[1;32m      4\u001b[0m \u001b[0mprint\u001b[0m\u001b[0;34m(\u001b[0m\u001b[0;34m'The most linearly correlated features to POPULARITY are:'\u001b[0m\u001b[0;34m)\u001b[0m\u001b[0;34m\u001b[0m\u001b[0;34m\u001b[0m\u001b[0m\n\u001b[1;32m      5\u001b[0m \u001b[0;32mfor\u001b[0m \u001b[0mi\u001b[0m\u001b[0;34m,\u001b[0m \u001b[0mrow\u001b[0m \u001b[0;32min\u001b[0m \u001b[0menumerate\u001b[0m\u001b[0;34m(\u001b[0m\u001b[0mseries\u001b[0m\u001b[0;34m)\u001b[0m\u001b[0;34m:\u001b[0m\u001b[0;34m\u001b[0m\u001b[0;34m\u001b[0m\u001b[0m\n",
      "\u001b[0;31mNameError\u001b[0m: name 'corr' is not defined"
     ]
    }
   ],
   "source": [
    "# allsongs['duration_ms'].corr(allsongs['popularity'])\n",
    "series = np.abs(corr['popularity']).sort_values(ascending=False)\n",
    "\n",
    "print('The most linearly correlated features to POPULARITY are:')\n",
    "for i, row in enumerate(series):\n",
    "    if 0.11 <= row < 1:\n",
    "      print(f'{series.index[i]:18} -> {row: .3f} (abs)')"
   ]
  },
  {
   "cell_type": "code",
   "execution_count": null,
   "metadata": {},
   "outputs": [],
   "source": [
    "from yellowbrick.target import FeatureCorrelation\n",
    "\n",
    "X, y = allsongs[songtraits], allsongs['popularity']\n",
    "\n",
    "#list of songtraits\n",
    "traits = np.array(songtraits)\n",
    "\n",
    "# Instantiate the visualizer\n",
    "visualizer = FeatureCorrelation(labels=traits)\n",
    "\n",
    "plt.rcParams['figure.figsize']=(10,10)\n",
    "visualizer.fit(X, y)        # Fit the data to the visualizer\n",
    "visualizer.show()  "
   ]
  },
  {
   "cell_type": "code",
   "execution_count": null,
   "metadata": {},
   "outputs": [],
   "source": [
    "# Splitting dataset into popular and non-popular songs\n",
    "popular = allsongs[allsongs['popularity'] == 1]\n",
    "notpopular = allsongs[allsongs['popularity'] == 0]"
   ]
  },
  {
   "cell_type": "code",
   "execution_count": null,
   "metadata": {},
   "outputs": [],
   "source": [
    "# Numeric Heatmap\n",
    "numeric_columns = allsongs.columns[allsongs.dtypes != 'object']\n",
    "numeric_df = pd.DataFrame(data=allsongs, columns=numeric_columns, index=allsongs.index)\n",
    "corr = np.abs(numeric_df.corr())\n",
    "fig, ax = plt.subplots(figsize=(8, 8))\n",
    "cmap = sb.color_palette(\"magma\")\n",
    "sb.heatmap(corr, cmap=cmap, square=True)\n",
    "plt.title('Correlation between numerical features: abs values')\n",
    "plt.show()"
   ]
  },
  {
   "cell_type": "code",
   "execution_count": null,
   "metadata": {},
   "outputs": [],
   "source": []
  },
  {
   "cell_type": "markdown",
   "metadata": {},
   "source": [
    "#### Statistical Summary of The Most Linearly Correlated Features"
   ]
  },
  {
   "cell_type": "code",
   "execution_count": null,
   "metadata": {},
   "outputs": [],
   "source": [
    "# Extract variables\n",
    "LC_features = pd.DataFrame(allsongs[[\"instrumentalness\", \"danceability\", \"loudness\", \"valence\", \"acousticness\", \"energy\"]])\n",
    "\n",
    "# Summary Statistics\n",
    "LC_features.describe().round(2)"
   ]
  },
  {
   "cell_type": "markdown",
   "metadata": {},
   "source": [
    "## Instrumentalness\n",
    "The closer to 1, the lesser the vocals\n",
    "\n",
    "Most songs are very close to 0, but there's a small number of songs around 0.9"
   ]
  },
  {
   "cell_type": "code",
   "execution_count": null,
   "metadata": {},
   "outputs": [],
   "source": [
    "fig, ax = plt.subplots(figsize = (15,3))\n",
    "ax = sb.histplot(allsongs['instrumentalness'], kde = False, bins=30)\n",
    "plt.show()"
   ]
  },
  {
   "cell_type": "code",
   "execution_count": null,
   "metadata": {},
   "outputs": [],
   "source": [
    "fig, ax = plt.subplots(1, figsize=(15, 6), sharey=True, sharex = True)\n",
    "ax_data =  allsongs.groupby('instrumentalness')['popularity'].mean().to_frame().reset_index()\n",
    "ax = sb.scatterplot(x='instrumentalness', y='popularity', data=ax_data, color='blue', ax=ax)\n",
    "ax.set_title('instrumentalness')\n",
    "ax.set_ylabel('Mean Popularity', fontsize=12)\n",
    "plt.tight_layout()\n",
    "plt.show()"
   ]
  },
  {
   "cell_type": "markdown",
   "metadata": {},
   "source": [
    "## Danceability\n",
    "Danceability describes how suitable a track is for dancing based on a combination of musical elements including tempo, rhythm stability, beat strength, and overall regularity. A value of 0.0 is least danceable and 1.0 is the most danceable.\n",
    "\n",
    "Normal distribution around 0.6, clear relationship with popularity of songs despite some outliers, higher danceability = more popular"
   ]
  },
  {
   "cell_type": "code",
   "execution_count": null,
   "metadata": {},
   "outputs": [],
   "source": [
    "sb.displot(allsongs['danceability'], kde=False, bins=30)\n",
    "plt.show()"
   ]
  },
  {
   "cell_type": "code",
   "execution_count": null,
   "metadata": {},
   "outputs": [],
   "source": [
    "fig, ax = plt.subplots(1, figsize=(15, 6), sharey=True, sharex = True)\n",
    "ax_data =  allsongs.groupby('danceability')['popularity'].mean().to_frame().reset_index()\n",
    "ax = sb.scatterplot(x='danceability', y='popularity', data=ax_data, color='blue', ax=ax)\n",
    "ax.set_title('danceability')\n",
    "ax.set_ylabel('Mean Popularity', fontsize=12)\n",
    "plt.tight_layout()\n",
    "plt.show()"
   ]
  },
  {
   "cell_type": "markdown",
   "metadata": {},
   "source": [
    "## Loudness\n",
    "Maybe dont use this cos popularity only 0 or 1"
   ]
  },
  {
   "cell_type": "code",
   "execution_count": null,
   "metadata": {},
   "outputs": [],
   "source": [
    "#fig, ax = plt.subplots(figsize = (15, 6))\n",
    "#sb.scatterplot(x='loudness', y='popularity', data=allsongs, color='blue', alpha=0.3)\n",
    "#plt.show()\n",
    "\n",
    "fig, ax = plt.subplots(1, figsize=(15, 6), sharey=True, sharex = True)\n",
    "ax_data =  allsongs.groupby('loudness')['popularity'].mean().to_frame().reset_index()\n",
    "ax = sb.scatterplot(x='loudness', y='popularity', data=ax_data, color='blue', ax=ax)\n",
    "ax.set_title('loudness')\n",
    "ax.set_ylabel('Mean Popularity', fontsize=12)\n",
    "plt.tight_layout()\n",
    "plt.show()"
   ]
  },
  {
   "cell_type": "code",
   "execution_count": null,
   "metadata": {},
   "outputs": [],
   "source": [
    "#todo Bar graph for loudness (for popular and non-popular songs)"
   ]
  },
  {
   "cell_type": "markdown",
   "metadata": {},
   "source": [
    "## Valence\n",
    "Maybe don't use this also"
   ]
  },
  {
   "cell_type": "code",
   "execution_count": null,
   "metadata": {},
   "outputs": [],
   "source": [
    "#sb.jointplot(x='valence', y='popularity', data=allsongs)\n",
    "#plt.show()\n",
    "\n",
    "fig, ax = plt.subplots(1, figsize=(15, 6), sharey=True, sharex = True)\n",
    "ax_data =  allsongs.groupby('valence')['popularity'].mean().to_frame().reset_index()\n",
    "ax = sb.scatterplot(x='valence', y='popularity', data=ax_data, color='blue', ax=ax)\n",
    "ax.set_title('valence')\n",
    "ax.set_ylabel('Mean Popularity', fontsize=12)\n",
    "plt.tight_layout()\n",
    "plt.show()"
   ]
  },
  {
   "cell_type": "markdown",
   "metadata": {},
   "source": [
    "## Acousticness\n",
    "A confidence measure from 0.0 to 1.0 of whether the track is acoustic. 1.0 represents high confidence the track is acoustic.\n",
    "\n",
    "The majority of acousticness of songs is close to 0. There is a slight negative relationship between acousticness and popularity"
   ]
  },
  {
   "cell_type": "code",
   "execution_count": null,
   "metadata": {},
   "outputs": [],
   "source": [
    "fig, ax = plt.subplots(figsize=(16, 4))\n",
    "sb.histplot(allsongs['acousticness'], kde=False, bins=30)\n",
    "plt.show()"
   ]
  },
  {
   "cell_type": "code",
   "execution_count": null,
   "metadata": {},
   "outputs": [],
   "source": [
    "fig, ax = plt.subplots(figsize=(15, 6))\n",
    "ax1_data =  allsongs.groupby('acousticness')['popularity'].mean().to_frame().reset_index()\n",
    "ax = sb.scatterplot(x = ax1_data['acousticness'], y = ax1_data['popularity'], color='blue', ax=ax)\n",
    "ax.set_title('Acousticness vs. Mean Popularity')\n",
    "ax.set_ylabel('Mean Popularity', fontsize=12)\n",
    "plt.tight_layout()\n",
    "plt.show()"
   ]
  },
  {
   "cell_type": "markdown",
   "metadata": {},
   "source": [
    "## Energy\n",
    "Energy is a measure from 0.0 to 1.0 and represents a perceptual measure of intensity and activity. Typically, energetic tracks feel fast, loud, and noisy.\n",
    "\n",
    "Most popular songs seem to be around 0.6 - 0.8"
   ]
  },
  {
   "cell_type": "code",
   "execution_count": null,
   "metadata": {
    "scrolled": true
   },
   "outputs": [],
   "source": [
    "sb.displot(allsongs['energy'], kde = False, bins=30)\n",
    "plt.show()"
   ]
  },
  {
   "cell_type": "code",
   "execution_count": null,
   "metadata": {},
   "outputs": [],
   "source": [
    "fig, ax = plt.subplots(1, figsize=(15, 6), sharey=True, sharex = True)\n",
    "ax_data =  allsongs.groupby('energy')['popularity'].mean().to_frame().reset_index()\n",
    "ax = sb.scatterplot(x='energy', y='popularity', data=ax_data, color='blue', ax=ax)\n",
    "ax.set_title('energy')\n",
    "ax.set_ylabel('Mean Popularity', fontsize=12)\n",
    "plt.tight_layout()\n",
    "plt.show()"
   ]
  },
  {
   "cell_type": "markdown",
   "metadata": {},
   "source": [
    "## Machine learning techniques to solve specific problem\n",
    "### Problem: Can we predict whether a song will be popular given statistics of the song traits?\n",
    "\n",
    "### comments\n",
    "-maybe add swarmplot for more illustration\n",
    "\n",
    "-classification tree changes each time the row is run due to random train test split\n",
    "\n",
    "-could change max depth of tree to get higher accuracy, but makes the tree hard to see"
   ]
  },
  {
   "cell_type": "code",
   "execution_count": null,
   "metadata": {},
   "outputs": [],
   "source": [
    "# Import essential models and functions for classifcation tree\n",
    "from sklearn.tree import DecisionTreeClassifier\n",
    "from sklearn.model_selection import train_test_split\n",
    "from sklearn.metrics import confusion_matrix\n",
    "from sklearn.tree import plot_tree\n",
    "\n",
    "popular = pd.DataFrame(allsongs['popularity'])  # Response"
   ]
  },
  {
   "cell_type": "code",
   "execution_count": null,
   "metadata": {},
   "outputs": [],
   "source": [
    "def univar_tree(predictor):\n",
    "    predictor = pd.DataFrame(allsongs[predictor])  \n",
    "    \n",
    "    X_train, X_test, y_train, y_test = train_test_split(predictor, popular, test_size = 0.2)\n",
    "    \n",
    "    # Decision Tree using Train Data\n",
    "    dectree = DecisionTreeClassifier(max_depth = 3)  # create the decision tree object\n",
    "    dectree.fit(X_train, y_train)                    # train the decision tree model\n",
    "    \n",
    "    #plot tree\n",
    "    f = plt.figure(figsize=(12,12))\n",
    "    plot_tree(dectree, filled=True, rounded=True, \n",
    "        feature_names=[\"predictor\"], \n",
    "        class_names=[\"unpopular\",\"popular\"])"
   ]
  },
  {
   "cell_type": "code",
   "execution_count": null,
   "metadata": {},
   "outputs": [],
   "source": [
    "def accuracy(predictor):\n",
    "    predictor = pd.DataFrame(allsongs[predictor])  \n",
    "    \n",
    "    X_train, X_test, y_train, y_test = train_test_split(predictor, popular, test_size = 0.2)\n",
    "    \n",
    "    # Decision Tree using Train Data\n",
    "    dectree = DecisionTreeClassifier(max_depth = 3)  # create the decision tree object\n",
    "    dectree.fit(X_train, y_train)                    # train the decision tree model\n",
    "    \n",
    "    # Predict Legendary values corresponding to Total\n",
    "    y_train_pred = dectree.predict(X_train)\n",
    "    y_test_pred = dectree.predict(X_test)\n",
    "\n",
    "    # Check the Goodness of Fit (on Train Data)\n",
    "    print(\"Goodness of Fit of Model \\tTrain Dataset\")\n",
    "    print(\"Classification Accuracy \\t:\", dectree.score(X_train, y_train))\n",
    "    print()\n",
    "\n",
    "    # Check the Goodness of Fit (on Test Data)\n",
    "    print(\"Goodness of Fit of Model \\tTest Dataset\")\n",
    "    print(\"Classification Accuracy \\t:\", dectree.score(X_test, y_test))\n",
    "    print()\n",
    "\n",
    "    # Plot the Confusion Matrix for Train and Test\n",
    "    f, axes = plt.subplots(1, 2, figsize=(12, 4))\n",
    "    sb.heatmap(confusion_matrix(y_train, y_train_pred),\n",
    "               annot = True, fmt=\".0f\", annot_kws={\"size\": 18}, ax = axes[0])\n",
    "    sb.heatmap(confusion_matrix(y_test, y_test_pred), \n",
    "               annot = True, fmt=\".0f\", annot_kws={\"size\": 18}, ax = axes[1])"
   ]
  },
  {
   "cell_type": "code",
   "execution_count": null,
   "metadata": {},
   "outputs": [],
   "source": [
    "univar_tree('danceability')"
   ]
  },
  {
   "cell_type": "code",
   "execution_count": null,
   "metadata": {},
   "outputs": [],
   "source": [
    "accuracy('danceability')"
   ]
  },
  {
   "cell_type": "code",
   "execution_count": null,
   "metadata": {},
   "outputs": [],
   "source": [
    "univar_tree('acousticness')"
   ]
  },
  {
   "cell_type": "code",
   "execution_count": null,
   "metadata": {},
   "outputs": [],
   "source": [
    "accuracy('acousticness')"
   ]
  },
  {
   "cell_type": "code",
   "execution_count": null,
   "metadata": {},
   "outputs": [],
   "source": [
    "univar_tree('energy')"
   ]
  },
  {
   "cell_type": "code",
   "execution_count": null,
   "metadata": {},
   "outputs": [],
   "source": [
    "accuracy('energy')"
   ]
  },
  {
   "cell_type": "markdown",
   "metadata": {},
   "source": [
    "---\n",
    "\n",
    "## Multi-Variate Classification Tree  \n",
    "\n",
    "Response Variable : **popularity**     \n",
    "Predictor Feature : **danceability, acousticness, energy**       \n"
   ]
  },
  {
   "cell_type": "code",
   "execution_count": null,
   "metadata": {},
   "outputs": [],
   "source": [
    "# Extract Response and Predictors\n",
    "# popular is name of dataframe for popularity (already created above)\n",
    "combination = pd.DataFrame(allsongs[[\"danceability\", \"acousticness\", \"energy\"]])"
   ]
  },
  {
   "cell_type": "code",
   "execution_count": null,
   "metadata": {},
   "outputs": [],
   "source": [
    "# Split the Dataset into Train and Test\n",
    "X_train, X_test, y_train, y_test = train_test_split(combination, popular, test_size = 0.2)\n",
    "\n",
    "# Check the sample sizes\n",
    "print(\"Train Set :\", y_train.shape, X_train.shape)\n",
    "print(\"Test Set  :\", y_test.shape, X_test.shape)"
   ]
  },
  {
   "cell_type": "code",
   "execution_count": null,
   "metadata": {},
   "outputs": [],
   "source": [
    "# Draw the distributions of all Predictors\n",
    "f, axes = plt.subplots(3, 3, figsize=(18, 16))\n",
    "\n",
    "count = 0\n",
    "for var in X_train:\n",
    "    sb.boxplot(data = X_train[var], orient = \"h\", ax = axes[count,0])\n",
    "    sb.histplot(data = X_train[var], ax = axes[count,1])\n",
    "    sb.violinplot(data = X_train[var], orient = \"h\", ax = axes[count,2])\n",
    "    count += 1"
   ]
  },
  {
   "cell_type": "code",
   "execution_count": null,
   "metadata": {},
   "outputs": [],
   "source": [
    "# Decision Tree using Train Data\n",
    "dectree1 = DecisionTreeClassifier(max_depth = 3)  # create the decision tree object\n",
    "dectree1.fit(X_train, y_train)                    # train the decision tree model\n",
    "\n",
    "f = plt.figure(figsize=(12,12))\n",
    "plot_tree(dectree1, filled=True, rounded=True, \n",
    "          feature_names=X_train.columns, \n",
    "          class_names=[\"unpopular\",\"popular\"])"
   ]
  },
  {
   "cell_type": "code",
   "execution_count": null,
   "metadata": {},
   "outputs": [],
   "source": [
    "# Predict popularity corresponding to combination of predictors\n",
    "y_train_pred = dectree1.predict(X_train)\n",
    "y_test_pred = dectree1.predict(X_test)\n",
    "\n",
    "# Check the Goodness of Fit (on Train Data)\n",
    "print(\"Goodness of Fit of Model \\tTrain Dataset\")\n",
    "print(\"Classification Accuracy \\t:\", dectree1.score(X_train, y_train))\n",
    "print()\n",
    "\n",
    "# Check the Goodness of Fit (on Test Data)\n",
    "print(\"Goodness of Fit of Model \\tTest Dataset\")\n",
    "print(\"Classification Accuracy \\t:\", dectree1.score(X_test, y_test))\n",
    "print()\n",
    "\n",
    "# Plot the Confusion Matrix for Train and Test\n",
    "f, axes = plt.subplots(1, 2, figsize=(12, 4))\n",
    "sb.heatmap(confusion_matrix(y_train, y_train_pred),\n",
    "           annot = True, fmt=\".0f\", annot_kws={\"size\": 18}, ax = axes[0])\n",
    "sb.heatmap(confusion_matrix(y_test, y_test_pred), \n",
    "           annot = True, fmt=\".0f\", annot_kws={\"size\": 18}, ax = axes[1])"
   ]
  },
  {
   "cell_type": "markdown",
   "metadata": {},
   "source": [
    "## trying out random forest regressor"
   ]
  },
  {
   "cell_type": "code",
   "execution_count": null,
   "metadata": {},
   "outputs": [],
   "source": [
    "from sklearn.ensemble import RandomForestRegressor\n",
    "from sklearn.model_selection import GridSearchCV\n",
    "from sklearn import metrics"
   ]
  },
  {
   "cell_type": "code",
   "execution_count": null,
   "metadata": {},
   "outputs": [],
   "source": [
    "#popular = pd.DataFrame(allsongs['popularity'])  # Response\n",
    "df_mod = pd.DataFrame(allsongs[[\"instrumentalness\", \"danceability\", \"loudness\", \"valence\", \"acousticness\", \"energy\"]])"
   ]
  },
  {
   "cell_type": "code",
   "execution_count": null,
   "metadata": {},
   "outputs": [],
   "source": [
    "x_train,x_test,y_train, y_test = train_test_split(df_mod, popular,test_size=0.2,random_state=27)"
   ]
  },
  {
   "cell_type": "code",
   "execution_count": null,
   "metadata": {},
   "outputs": [],
   "source": [
    "random_forest = RandomForestRegressor()\n",
    "\n",
    "random_forest.fit(x_train, y_train)\n",
    "Y_pred_rf = random_forest.predict(x_test)\n",
    "random_forest.score(x_train,y_train)\n",
    "acc_random_forest = round(random_forest.score(x_train,y_train) * 100, 2)\n",
    "\n",
    "print(\"Important features\")\n",
    "pd.Series(random_forest.feature_importances_,x_train.columns).sort_values(ascending=True).plot.barh(width=0.8)\n",
    "print('__'*30)\n",
    "print(acc_random_forest)"
   ]
  },
  {
   "cell_type": "code",
   "execution_count": null,
   "metadata": {},
   "outputs": [],
   "source": [
    "#r squared value\n",
    "r_sq = metrics.r2_score(y_test, Y_pred_rf)\n",
    "print(r_sq)"
   ]
  },
  {
   "cell_type": "code",
   "execution_count": null,
   "metadata": {},
   "outputs": [],
   "source": []
  },
  {
   "cell_type": "markdown",
   "metadata": {},
   "source": [
    "## Other Stuff"
   ]
  },
  {
   "cell_type": "code",
   "execution_count": null,
   "metadata": {},
   "outputs": [],
   "source": [
    "from wordcloud import WordCloud\n",
    "plt.style.use('seaborn')\n",
    "decade10 = popular[popular['decade'] == 2010]\n",
    "words = decade10[\"artist\"].str.split(\"(\").str[0].value_counts().keys()\n",
    "\n",
    "wc1 = WordCloud(scale=5,max_words=1000,colormap=\"rainbow\",background_color=\"white\").generate(\" \".join(words))\n",
    "plt.figure(figsize=(12,18))\n",
    "plt.imshow(wc1,interpolation=\"bilinear\")\n",
    "plt.axis(\"off\")\n",
    "plt.title(\"Artist Name for top 50 songs in the 2010s\", color='b')\n",
    "plt.show()"
   ]
  },
  {
   "cell_type": "code",
   "execution_count": null,
   "metadata": {},
   "outputs": [],
   "source": [
    "fig,ax = plt.subplots(figsize=(20, 10))\n",
    "sb.despine(fig, left=True, bottom=True)\n",
    "sb.set_context(\"notebook\", font_scale=2, rc={\"lines.linewidth\": 3})\n",
    "\n",
    "columns = [\"acousticness\", \"danceability\", \"energy\", \"speechiness\", \"liveness\", \"valence\"]\n",
    "\n",
    "for col in columns:\n",
    "    x = allsongs.groupby(\"decade\")[col].mean()\n",
    "    ax= sb.lineplot(x=x.index,y=x,label=col)\n",
    "ax.set_title('Audio characteristics over the decades')\n",
    "ax.set_ylabel('Measure')\n",
    "ax.set_xlabel('Year')"
   ]
  },
  {
   "cell_type": "code",
   "execution_count": null,
   "metadata": {},
   "outputs": [],
   "source": []
  }
 ],
 "metadata": {
  "kernelspec": {
   "display_name": "Python 3 (ipykernel)",
   "language": "python",
   "name": "python3"
  },
  "language_info": {
   "codemirror_mode": {
    "name": "ipython",
    "version": 3
   },
   "file_extension": ".py",
   "mimetype": "text/x-python",
   "name": "python",
   "nbconvert_exporter": "python",
   "pygments_lexer": "ipython3",
   "version": "3.9.7"
  }
 },
 "nbformat": 4,
 "nbformat_minor": 4
}
